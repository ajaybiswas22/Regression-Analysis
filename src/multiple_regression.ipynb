{
 "cells": [
  {
   "cell_type": "markdown",
   "metadata": {},
   "source": [
    "# House Price Prediction using multiple linear regression"
   ]
  },
  {
   "cell_type": "markdown",
   "metadata": {},
   "source": [
    "Author: Ajay Biswas\n",
    "National Institute of Technology, Rourkela \n",
    "\n",
    "In this assignment, we have to predict house prices and measure prediction error using multiple regression. It is a statistical technique that uses several explanatory variables to predict the outcome of a response variable. The goal of multiple linear regression (MLR) is to model the linear relationship between the explanatory (independent) variables and response (dependent) variable."
   ]
  },
  {
   "cell_type": "markdown",
   "metadata": {},
   "source": [
    "## Multiple Regression Formula\n",
    "\n",
    ">$Y=XB + e$\n",
    "\n",
    ">$B = (X'X)^{-1}X'Y$\n",
    "\n",
    ">$Y -> N\\times1 $ column matrix of cases scores on dependent variable.\n",
    "\n",
    ">$X -> N\\times(K+1)$ matrix of cases on independent varaiable.\n",
    "\n",
    ">$B -> (K+1)\\times1$ column matrix containing regression constant and coefficients.\n",
    "\n",
    ">$e -> N\\times1$ column matrix of cases of error prediction."
   ]
  },
  {
   "cell_type": "code",
   "execution_count": 1,
   "metadata": {},
   "outputs": [],
   "source": [
    "import numpy as np\n",
    "import pandas as pd \n",
    "from matplotlib import pyplot as plt"
   ]
  },
  {
   "cell_type": "markdown",
   "metadata": {},
   "source": [
    "### Load Dataset"
   ]
  },
  {
   "cell_type": "code",
   "execution_count": 2,
   "metadata": {},
   "outputs": [
    {
     "data": {
      "text/html": [
       "<div>\n",
       "<style scoped>\n",
       "    .dataframe tbody tr th:only-of-type {\n",
       "        vertical-align: middle;\n",
       "    }\n",
       "\n",
       "    .dataframe tbody tr th {\n",
       "        vertical-align: top;\n",
       "    }\n",
       "\n",
       "    .dataframe thead th {\n",
       "        text-align: right;\n",
       "    }\n",
       "</style>\n",
       "<table border=\"1\" class=\"dataframe\">\n",
       "  <thead>\n",
       "    <tr style=\"text-align: right;\">\n",
       "      <th></th>\n",
       "      <th>No</th>\n",
       "      <th>X1 house age</th>\n",
       "      <th>X2 distance to the nearest MRT station</th>\n",
       "      <th>X3 no of convenience stores</th>\n",
       "      <th>X4 latitude</th>\n",
       "      <th>X5 longitude</th>\n",
       "      <th>Y house price of unit area</th>\n",
       "    </tr>\n",
       "  </thead>\n",
       "  <tbody>\n",
       "    <tr>\n",
       "      <th>0</th>\n",
       "      <td>1</td>\n",
       "      <td>32.0</td>\n",
       "      <td>84.87882</td>\n",
       "      <td>10</td>\n",
       "      <td>24.98298</td>\n",
       "      <td>121.54024</td>\n",
       "      <td>37.9</td>\n",
       "    </tr>\n",
       "    <tr>\n",
       "      <th>1</th>\n",
       "      <td>2</td>\n",
       "      <td>19.5</td>\n",
       "      <td>306.59470</td>\n",
       "      <td>9</td>\n",
       "      <td>24.98034</td>\n",
       "      <td>121.53951</td>\n",
       "      <td>42.2</td>\n",
       "    </tr>\n",
       "    <tr>\n",
       "      <th>2</th>\n",
       "      <td>3</td>\n",
       "      <td>13.3</td>\n",
       "      <td>561.98450</td>\n",
       "      <td>5</td>\n",
       "      <td>24.98746</td>\n",
       "      <td>121.54391</td>\n",
       "      <td>47.3</td>\n",
       "    </tr>\n",
       "    <tr>\n",
       "      <th>3</th>\n",
       "      <td>4</td>\n",
       "      <td>13.3</td>\n",
       "      <td>561.98450</td>\n",
       "      <td>5</td>\n",
       "      <td>24.98746</td>\n",
       "      <td>121.54391</td>\n",
       "      <td>54.8</td>\n",
       "    </tr>\n",
       "    <tr>\n",
       "      <th>4</th>\n",
       "      <td>5</td>\n",
       "      <td>5.0</td>\n",
       "      <td>390.56840</td>\n",
       "      <td>5</td>\n",
       "      <td>24.97937</td>\n",
       "      <td>121.54245</td>\n",
       "      <td>43.1</td>\n",
       "    </tr>\n",
       "    <tr>\n",
       "      <th>...</th>\n",
       "      <td>...</td>\n",
       "      <td>...</td>\n",
       "      <td>...</td>\n",
       "      <td>...</td>\n",
       "      <td>...</td>\n",
       "      <td>...</td>\n",
       "      <td>...</td>\n",
       "    </tr>\n",
       "    <tr>\n",
       "      <th>409</th>\n",
       "      <td>410</td>\n",
       "      <td>13.7</td>\n",
       "      <td>4082.01500</td>\n",
       "      <td>0</td>\n",
       "      <td>24.94155</td>\n",
       "      <td>121.50381</td>\n",
       "      <td>15.4</td>\n",
       "    </tr>\n",
       "    <tr>\n",
       "      <th>410</th>\n",
       "      <td>411</td>\n",
       "      <td>5.6</td>\n",
       "      <td>90.45606</td>\n",
       "      <td>9</td>\n",
       "      <td>24.97433</td>\n",
       "      <td>121.54310</td>\n",
       "      <td>50.0</td>\n",
       "    </tr>\n",
       "    <tr>\n",
       "      <th>411</th>\n",
       "      <td>412</td>\n",
       "      <td>18.8</td>\n",
       "      <td>390.96960</td>\n",
       "      <td>7</td>\n",
       "      <td>24.97923</td>\n",
       "      <td>121.53986</td>\n",
       "      <td>40.6</td>\n",
       "    </tr>\n",
       "    <tr>\n",
       "      <th>412</th>\n",
       "      <td>413</td>\n",
       "      <td>8.1</td>\n",
       "      <td>104.81010</td>\n",
       "      <td>5</td>\n",
       "      <td>24.96674</td>\n",
       "      <td>121.54067</td>\n",
       "      <td>52.5</td>\n",
       "    </tr>\n",
       "    <tr>\n",
       "      <th>413</th>\n",
       "      <td>414</td>\n",
       "      <td>6.5</td>\n",
       "      <td>90.45606</td>\n",
       "      <td>9</td>\n",
       "      <td>24.97433</td>\n",
       "      <td>121.54310</td>\n",
       "      <td>63.9</td>\n",
       "    </tr>\n",
       "  </tbody>\n",
       "</table>\n",
       "<p>414 rows × 7 columns</p>\n",
       "</div>"
      ],
      "text/plain": [
       "      No  X1 house age  X2 distance to the nearest MRT station  \\\n",
       "0      1          32.0                                84.87882   \n",
       "1      2          19.5                               306.59470   \n",
       "2      3          13.3                               561.98450   \n",
       "3      4          13.3                               561.98450   \n",
       "4      5           5.0                               390.56840   \n",
       "..   ...           ...                                     ...   \n",
       "409  410          13.7                              4082.01500   \n",
       "410  411           5.6                                90.45606   \n",
       "411  412          18.8                               390.96960   \n",
       "412  413           8.1                               104.81010   \n",
       "413  414           6.5                                90.45606   \n",
       "\n",
       "     X3 no of convenience stores  X4 latitude  X5 longitude  \\\n",
       "0                             10     24.98298     121.54024   \n",
       "1                              9     24.98034     121.53951   \n",
       "2                              5     24.98746     121.54391   \n",
       "3                              5     24.98746     121.54391   \n",
       "4                              5     24.97937     121.54245   \n",
       "..                           ...          ...           ...   \n",
       "409                            0     24.94155     121.50381   \n",
       "410                            9     24.97433     121.54310   \n",
       "411                            7     24.97923     121.53986   \n",
       "412                            5     24.96674     121.54067   \n",
       "413                            9     24.97433     121.54310   \n",
       "\n",
       "     Y house price of unit area  \n",
       "0                          37.9  \n",
       "1                          42.2  \n",
       "2                          47.3  \n",
       "3                          54.8  \n",
       "4                          43.1  \n",
       "..                          ...  \n",
       "409                        15.4  \n",
       "410                        50.0  \n",
       "411                        40.6  \n",
       "412                        52.5  \n",
       "413                        63.9  \n",
       "\n",
       "[414 rows x 7 columns]"
      ]
     },
     "metadata": {},
     "output_type": "display_data"
    }
   ],
   "source": [
    "# load csv\n",
    "csvfile = pd.read_csv(\"Real estate valuation data set.csv\") \n",
    "display(csvfile)\n",
    "\n",
    "# loading dataset into an array\n",
    "dataset = csvfile.values\n",
    "\n",
    "# Loading real House price in Y\n",
    "Y = dataset[:,6]\n",
    "n = len(Y)"
   ]
  },
  {
   "cell_type": "code",
   "execution_count": 3,
   "metadata": {},
   "outputs": [
    {
     "name": "stdout",
     "output_type": "stream",
     "text": [
      "X:  [[  1.       32.       84.87882  10.       24.98298 121.54024]\n",
      " [  1.       19.5     306.5947    9.       24.98034 121.53951]\n",
      " [  1.       13.3     561.9845    5.       24.98746 121.54391]\n",
      " ...\n",
      " [  1.       18.8     390.9696    7.       24.97923 121.53986]\n",
      " [  1.        8.1     104.8101    5.       24.96674 121.54067]\n",
      " [  1.        6.5      90.45606   9.       24.97433 121.5431 ]]\n"
     ]
    }
   ],
   "source": [
    "# Setting X\n",
    "\n",
    "X = np.zeros((n,6))\n",
    "\n",
    "X[:,1:6] = dataset[:,1:6] \n",
    "X[:,0] = np.ones(n)\n",
    "print('X: ',X)"
   ]
  },
  {
   "cell_type": "code",
   "execution_count": 4,
   "metadata": {},
   "outputs": [
    {
     "name": "stdout",
     "output_type": "stream",
     "text": [
      "B:  [-4.94559481e+03 -2.68916833e-01 -4.25908901e-03  1.16302048e+00\n",
      "  2.37767190e+02 -7.80545509e+00]\n"
     ]
    }
   ],
   "source": [
    "# calculating B\n",
    "B = np.dot(np.dot(np.linalg.inv(np.dot(X.T,X)),X.T),Y)\n",
    "print('B: ',B)"
   ]
  },
  {
   "cell_type": "code",
   "execution_count": 5,
   "metadata": {},
   "outputs": [],
   "source": [
    "# Fitting Y\n",
    "Y_hat = np.dot(X,B)"
   ]
  },
  {
   "cell_type": "code",
   "execution_count": 6,
   "metadata": {},
   "outputs": [],
   "source": [
    "# error prediction\n",
    "e = Y - Y_hat "
   ]
  },
  {
   "cell_type": "code",
   "execution_count": 7,
   "metadata": {},
   "outputs": [
    {
     "name": "stdout",
     "output_type": "stream",
     "text": [
      "\n",
      "Error Table for Multiple Regression\n",
      "\n"
     ]
    },
    {
     "data": {
      "text/html": [
       "<div>\n",
       "<style scoped>\n",
       "    .dataframe tbody tr th:only-of-type {\n",
       "        vertical-align: middle;\n",
       "    }\n",
       "\n",
       "    .dataframe tbody tr th {\n",
       "        vertical-align: top;\n",
       "    }\n",
       "\n",
       "    .dataframe thead th {\n",
       "        text-align: right;\n",
       "    }\n",
       "</style>\n",
       "<table border=\"1\" class=\"dataframe\">\n",
       "  <thead>\n",
       "    <tr style=\"text-align: right;\">\n",
       "      <th></th>\n",
       "      <th>Standard Order</th>\n",
       "      <th>Actual Value(Y)</th>\n",
       "      <th>Fitted Value(Y_hat)</th>\n",
       "      <th>Residual</th>\n",
       "    </tr>\n",
       "  </thead>\n",
       "  <tbody>\n",
       "    <tr>\n",
       "      <th>0</th>\n",
       "      <td>1.0</td>\n",
       "      <td>37.9</td>\n",
       "      <td>48.524624</td>\n",
       "      <td>-10.624624</td>\n",
       "    </tr>\n",
       "    <tr>\n",
       "      <th>1</th>\n",
       "      <td>2.0</td>\n",
       "      <td>42.2</td>\n",
       "      <td>49.156749</td>\n",
       "      <td>-6.956749</td>\n",
       "    </tr>\n",
       "    <tr>\n",
       "      <th>2</th>\n",
       "      <td>3.0</td>\n",
       "      <td>47.3</td>\n",
       "      <td>46.742782</td>\n",
       "      <td>0.557218</td>\n",
       "    </tr>\n",
       "    <tr>\n",
       "      <th>3</th>\n",
       "      <td>4.0</td>\n",
       "      <td>54.8</td>\n",
       "      <td>46.742782</td>\n",
       "      <td>8.057218</td>\n",
       "    </tr>\n",
       "    <tr>\n",
       "      <th>4</th>\n",
       "      <td>5.0</td>\n",
       "      <td>43.1</td>\n",
       "      <td>47.792728</td>\n",
       "      <td>-4.692728</td>\n",
       "    </tr>\n",
       "    <tr>\n",
       "      <th>...</th>\n",
       "      <td>...</td>\n",
       "      <td>...</td>\n",
       "      <td>...</td>\n",
       "      <td>...</td>\n",
       "    </tr>\n",
       "    <tr>\n",
       "      <th>409</th>\n",
       "      <td>410.0</td>\n",
       "      <td>15.4</td>\n",
       "      <td>15.225097</td>\n",
       "      <td>0.174903</td>\n",
       "    </tr>\n",
       "    <tr>\n",
       "      <th>410</th>\n",
       "      <td>411.0</td>\n",
       "      <td>50.0</td>\n",
       "      <td>52.358244</td>\n",
       "      <td>-2.358244</td>\n",
       "    </tr>\n",
       "    <tr>\n",
       "      <th>411</th>\n",
       "      <td>412.0</td>\n",
       "      <td>40.6</td>\n",
       "      <td>46.392936</td>\n",
       "      <td>-5.792936</td>\n",
       "    </tr>\n",
       "    <tr>\n",
       "      <th>412</th>\n",
       "      <td>413.0</td>\n",
       "      <td>52.5</td>\n",
       "      <td>45.187050</td>\n",
       "      <td>7.312950</td>\n",
       "    </tr>\n",
       "    <tr>\n",
       "      <th>413</th>\n",
       "      <td>414.0</td>\n",
       "      <td>63.9</td>\n",
       "      <td>52.116219</td>\n",
       "      <td>11.783781</td>\n",
       "    </tr>\n",
       "  </tbody>\n",
       "</table>\n",
       "<p>414 rows × 4 columns</p>\n",
       "</div>"
      ],
      "text/plain": [
       "     Standard Order  Actual Value(Y)  Fitted Value(Y_hat)   Residual\n",
       "0               1.0             37.9            48.524624 -10.624624\n",
       "1               2.0             42.2            49.156749  -6.956749\n",
       "2               3.0             47.3            46.742782   0.557218\n",
       "3               4.0             54.8            46.742782   8.057218\n",
       "4               5.0             43.1            47.792728  -4.692728\n",
       "..              ...              ...                  ...        ...\n",
       "409           410.0             15.4            15.225097   0.174903\n",
       "410           411.0             50.0            52.358244  -2.358244\n",
       "411           412.0             40.6            46.392936  -5.792936\n",
       "412           413.0             52.5            45.187050   7.312950\n",
       "413           414.0             63.9            52.116219  11.783781\n",
       "\n",
       "[414 rows x 4 columns]"
      ]
     },
     "metadata": {},
     "output_type": "display_data"
    }
   ],
   "source": [
    "# Error Table\n",
    "e_tab = np.zeros((len(Y),4))\n",
    "e_tab[:,0] = np.arange(1,len(Y)+1,dtype=int)\n",
    "e_tab[:,1] = Y\n",
    "e_tab[:,2] = Y_hat\n",
    "e_tab[:,3] = e\n",
    "\n",
    "et = pd.DataFrame(e_tab, columns = ['Standard Order', 'Actual Value(Y)', 'Fitted Value(Y_hat)','Residual'])\n",
    "\n",
    "print('\\nError Table for Multiple Regression\\n')\n",
    "display(et)\n",
    "\n",
    "# Saving tables to output folder\n",
    "et.to_csv (r'..\\output\\table_m1.csv', index = False, header=True)\n"
   ]
  },
  {
   "cell_type": "code",
   "execution_count": 8,
   "metadata": {},
   "outputs": [
    {
     "name": "stdout",
     "output_type": "stream",
     "text": [
      "Mean Absolute Error:  6.1748685283007365\n"
     ]
    }
   ],
   "source": [
    "mae = np.mean(abs(e))\n",
    "print('Mean Absolute Error: ',mae)"
   ]
  },
  {
   "cell_type": "code",
   "execution_count": 9,
   "metadata": {},
   "outputs": [
    {
     "data": {
      "text/plain": [
       "<matplotlib.legend.Legend at 0x1353ea54370>"
      ]
     },
     "execution_count": 9,
     "metadata": {},
     "output_type": "execute_result"
    },
    {
     "data": {
      "image/png": "[encoded data removed]",
      "text/plain": [
       "<Figure size 432x288 with 1 Axes>"
      ]
     },
     "metadata": {
      "needs_background": "light"
     },
     "output_type": "display_data"
    }
   ],
   "source": [
    "x = np.arange(1,415)\n",
    "plt.ylabel('House Prices')\n",
    "plt.title('Comparison of Y and Fitted Y')\n",
    "plt.plot(x, Y, linestyle='-')\n",
    "plt.plot(x, Y_hat, linestyle='-')\n",
    "plt.legend([\"Real Y\",\"Fitted Y\"])"
   ]
  }
 ],
 "metadata": {
  "kernelspec": {
   "display_name": "Python 3",
   "language": "python",
   "name": "python3"
  },
  "language_info": {
   "codemirror_mode": {
    "name": "ipython",
    "version": 3
   },
   "file_extension": ".py",
   "mimetype": "text/x-python",
   "name": "python",
   "nbconvert_exporter": "python",
   "pygments_lexer": "ipython3",
   "version": "3.8.5"
  }
 },
 "nbformat": 4,
 "nbformat_minor": 4
}
